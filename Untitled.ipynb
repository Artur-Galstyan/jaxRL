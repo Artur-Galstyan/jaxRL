{
 "cells": [
  {
   "cell_type": "code",
   "execution_count": 2,
   "id": "a12f5e40-40b9-45fc-ae97-cab8542f3053",
   "metadata": {},
   "outputs": [],
   "source": [
    "import gymnax"
   ]
  },
  {
   "cell_type": "code",
   "execution_count": 3,
   "id": "bc9ba00d-9c4e-4ae9-b066-35c422a64456",
   "metadata": {},
   "outputs": [],
   "source": [
    "env, env_params = gymnax.make(\"CartPole-v1\")"
   ]
  },
  {
   "cell_type": "code",
   "execution_count": 4,
   "id": "d83eb76c-1469-44c6-b193-cb6eb974a48e",
   "metadata": {},
   "outputs": [
    {
     "data": {
      "text/plain": [
       "EnvParams(gravity=9.8, masscart=1.0, masspole=0.1, total_mass=1.1, length=0.5, polemass_length=0.05, force_mag=10.0, tau=0.02, theta_threshold_radians=0.20943951023931953, x_threshold=2.4, max_steps_in_episode=500)"
      ]
     },
     "execution_count": 4,
     "metadata": {},
     "output_type": "execute_result"
    }
   ],
   "source": [
    "env_params"
   ]
  },
  {
   "cell_type": "code",
   "execution_count": 8,
   "id": "f24bb9bf-c928-4062-a307-a8ebbb2a8428",
   "metadata": {},
   "outputs": [
    {
     "data": {
      "text/plain": [
       "(4,)"
      ]
     },
     "execution_count": 8,
     "metadata": {},
     "output_type": "execute_result"
    }
   ],
   "source": [
    "env.observation_space(env_params).shape"
   ]
  },
  {
   "cell_type": "code",
   "execution_count": 9,
   "id": "37446764-0f72-4cf9-bbdc-ba346a761171",
   "metadata": {},
   "outputs": [
    {
     "data": {
      "text/plain": [
       "2"
      ]
     },
     "execution_count": 9,
     "metadata": {},
     "output_type": "execute_result"
    }
   ],
   "source": [
    "env.action_space(env_params).n"
   ]
  },
  {
   "cell_type": "code",
   "execution_count": null,
   "id": "304d1d90-853f-464c-9beb-5bca04c16e60",
   "metadata": {},
   "outputs": [],
   "source": []
  }
 ],
 "metadata": {
  "kernelspec": {
   "display_name": "Python 3 (ipykernel)",
   "language": "python",
   "name": "python3"
  },
  "language_info": {
   "codemirror_mode": {
    "name": "ipython",
    "version": 3
   },
   "file_extension": ".py",
   "mimetype": "text/x-python",
   "name": "python",
   "nbconvert_exporter": "python",
   "pygments_lexer": "ipython3",
   "version": "3.11.6"
  }
 },
 "nbformat": 4,
 "nbformat_minor": 5
}
