{
 "cells": [
  {
   "cell_type": "code",
   "execution_count": 14,
   "id": "59c8dff7-ef7c-4fb8-b50a-7b2123a4d798",
   "metadata": {
    "tags": []
   },
   "outputs": [],
   "source": [
    "import jax\n",
    "import jax.numpy as jnp\n",
    "import gymnax\n",
    "import equinox as eqx"
   ]
  },
  {
   "cell_type": "code",
   "execution_count": 2,
   "id": "81e62afe-7fad-4668-9700-9d7dc93461d5",
   "metadata": {
    "tags": []
   },
   "outputs": [
    {
     "data": {
      "text/plain": [
       "(1, [CpuDevice(id=0)])"
      ]
     },
     "execution_count": 2,
     "metadata": {},
     "output_type": "execute_result"
    }
   ],
   "source": [
    "jax.device_count(), jax.devices()"
   ]
  },
  {
   "cell_type": "code",
   "execution_count": 38,
   "id": "a492f6e8-6519-40c7-a611-a885951ab8a0",
   "metadata": {
    "tags": []
   },
   "outputs": [
    {
     "data": {
      "text/plain": [
       "EnvParams(max_speed=8.0, max_torque=2.0, dt=0.05, g=10.0, m=1.0, l=1.0, max_steps_in_episode=200)"
      ]
     },
     "execution_count": 38,
     "metadata": {},
     "output_type": "execute_result"
    }
   ],
   "source": [
    "rng = jax.random.PRNGKey(0)\n",
    "rng, key_reset, key_policy, key_step = jax.random.split(rng, 4)\n",
    "\n",
    "# Create the Pendulum-v1 environment\n",
    "env, env_params = gymnax.make(\"Pendulum-v1\")\n",
    "\n",
    "# Inspect default environment settings\n",
    "env_params"
   ]
  },
  {
   "cell_type": "code",
   "execution_count": 6,
   "id": "04a105b0-6384-41b0-b75f-c4240cebe78e",
   "metadata": {
    "tags": []
   },
   "outputs": [
    {
     "data": {
      "text/plain": [
       "(Array([-0.939326  , -0.34302574, -0.6520283 ], dtype=float32),\n",
       " EnvState(theta=Array(-2.7914565, dtype=float32), theta_dot=Array(-0.6520283, dtype=float32), last_u=Array(0., dtype=float32, weak_type=True), time=Array(0, dtype=int32, weak_type=True)))"
      ]
     },
     "execution_count": 6,
     "metadata": {},
     "output_type": "execute_result"
    }
   ],
   "source": [
    "obs, state = env.reset(key_reset, env_params)\n",
    "obs, state"
   ]
  },
  {
   "cell_type": "code",
   "execution_count": 7,
   "id": "f37df135-9f20-433a-8267-51f454ca8453",
   "metadata": {
    "tags": []
   },
   "outputs": [
    {
     "data": {
      "text/plain": [
       "(Array([-0.9494436 , -0.31393763, -0.6159719 ], dtype=float32),\n",
       " EnvState(theta=Array(-2.8222551, dtype=float32), theta_dot=Array(-0.6159719, dtype=float32), last_u=Array(1.9555049, dtype=float32), time=Array(1, dtype=int32, weak_type=True)),\n",
       " Array(-7.8385677, dtype=float32),\n",
       " Array(False, dtype=bool, weak_type=True))"
      ]
     },
     "execution_count": 7,
     "metadata": {},
     "output_type": "execute_result"
    }
   ],
   "source": [
    "action = env.action_space(env_params).sample(key_policy)\n",
    "n_obs, n_state, reward, done, _ = env.step(key_step, state, action, env_params)\n",
    "n_obs, n_state, reward, done"
   ]
  },
  {
   "cell_type": "code",
   "execution_count": 8,
   "id": "c8859b15-a727-4df6-867b-d6eba7c9e555",
   "metadata": {
    "tags": []
   },
   "outputs": [],
   "source": [
    "vmap_reset = jax.vmap(env.reset, in_axes=(0, None))\n",
    "vmap_step = jax.vmap(env.step, in_axes=(0, 0, 0, None))"
   ]
  },
  {
   "cell_type": "code",
   "execution_count": 9,
   "id": "448a4452-729c-43b6-80f5-19ee92a2e680",
   "metadata": {
    "tags": []
   },
   "outputs": [],
   "source": [
    "num_envs = 8\n",
    "vmap_keys = jax.random.split(rng, num_envs)"
   ]
  },
  {
   "cell_type": "code",
   "execution_count": 12,
   "id": "e684e5d9-f24d-4480-bc79-c6b77f509f79",
   "metadata": {
    "tags": []
   },
   "outputs": [
    {
     "data": {
      "text/plain": [
       "(8, 3)"
      ]
     },
     "execution_count": 12,
     "metadata": {},
     "output_type": "execute_result"
    }
   ],
   "source": [
    "obs, state = vmap_reset(vmap_keys, env_params)\n",
    "obs.shape"
   ]
  },
  {
   "cell_type": "code",
   "execution_count": 13,
   "id": "377f3380-ddd4-4638-8a39-7797633923cb",
   "metadata": {
    "tags": []
   },
   "outputs": [
    {
     "name": "stdout",
     "output_type": "stream",
     "text": [
      "(8, 3)\n"
     ]
    }
   ],
   "source": [
    "n_obs, n_state, reward, done, _ = vmap_step(vmap_keys, state, jnp.zeros(num_envs), env_params)\n",
    "print(n_obs.shape)"
   ]
  },
  {
   "cell_type": "code",
   "execution_count": 60,
   "id": "789fc208-d2fa-4c0d-a5bc-0985f9c0e16a",
   "metadata": {
    "tags": []
   },
   "outputs": [],
   "source": [
    "class MLP(eqx.Module):\n",
    "    mlp: eqx.nn.MLP\n",
    "    def __init__(self, in_size, out_size, *, key) -> None:\n",
    "        self.mlp = eqx.nn.MLP(in_size=in_size, out_size=out_size, width_size=32, depth=2,\n",
    "                             key=key)\n",
    "    \n",
    "    def __call__(self, x, *, key):\n",
    "        return self.mlp(x)\n",
    "\n",
    "key = jax.random.PRNGKey(32)\n",
    "policy = MLP(in_size=env.observation_space(params=env_params).shape[0], \n",
    "             out_size=env.action_space(params=env_params).shape[0],\n",
    "                key=key)"
   ]
  },
  {
   "cell_type": "code",
   "execution_count": 162,
   "id": "7c6fc3bb-48b6-482b-b6be-f95f5db8f05c",
   "metadata": {
    "tags": []
   },
   "outputs": [],
   "source": [
    "def rollout(rng_input, policy, env, env_params, steps_in_episode, epoch):\n",
    "    \"\"\"Rollout a jitted gymnax episode with lax.scan.\"\"\"\n",
    "    # Reset the environment\n",
    "    rng_reset, rng_episode = jax.random.split(rng_input)\n",
    "    obs, state = env.reset(rng_reset, env_params)\n",
    "\n",
    "    def policy_step(state_input, tmp):\n",
    "        \"\"\"lax.scan compatible step transition in jax env.\"\"\"\n",
    "        obs, state, rng = state_input\n",
    "        rng, rng_step, rng_net = jax.random.split(rng, 3)\n",
    "        action = policy(obs, key=rng_net)\n",
    "        next_obs, next_state, reward, done, _ = env.step(\n",
    "          rng_step, state, action, env_params\n",
    "        )\n",
    "        carry = [next_obs, next_state, rng]\n",
    "        return carry, [obs, action, reward, next_obs, done, state]\n",
    "\n",
    "    # Scan over episode step loop\n",
    "    _, scan_out = jax.lax.scan(\n",
    "      policy_step,\n",
    "      [obs, state, rng_episode],\n",
    "      (),\n",
    "      steps_in_episode\n",
    "    )\n",
    "    # Return masked sum of rewards accumulated by agent in episode\n",
    "    obs, action, reward, next_obs, done, states = scan_out\n",
    "    return obs, action, reward, next_obs, done, states"
   ]
  },
  {
   "cell_type": "code",
   "execution_count": 163,
   "id": "2f2fc0cd-2725-42e1-8294-649eb9fe7a70",
   "metadata": {
    "tags": []
   },
   "outputs": [],
   "source": [
    "jit_rollout = eqx.filter_jit(rollout)"
   ]
  },
  {
   "cell_type": "code",
   "execution_count": 164,
   "id": "a38ec5ee-bac5-4182-934a-d3364d64e8d2",
   "metadata": {
    "tags": []
   },
   "outputs": [
    {
     "data": {
      "text/plain": [
       "((200, 3), (200,), Array(-933.41895, dtype=float32))"
      ]
     },
     "execution_count": 164,
     "metadata": {},
     "output_type": "execute_result"
    }
   ],
   "source": [
    "obs, action, reward, next_obs, done, states = jit_rollout(rng, policy, env, env_params, 200, 0)\n",
    "obs.shape, reward.shape, jnp.sum(reward)"
   ]
  },
  {
   "cell_type": "code",
   "execution_count": 165,
   "id": "1c0b109c-4d15-4ded-be80-c6fcb295feee",
   "metadata": {
    "tags": []
   },
   "outputs": [
    {
     "data": {
      "text/plain": [
       "((30, 200, 3), (30, 200), Array(-28002.578, dtype=float32))"
      ]
     },
     "execution_count": 165,
     "metadata": {},
     "output_type": "execute_result"
    }
   ],
   "source": [
    "obs, action, reward, next_obs, done, states = eqx.filter_vmap(jit_rollout, in_axes=(None, None, None, None, None, 0))(rng, policy, env, env_params, 200, jnp.arange(30))\n",
    "obs.shape, reward.shape, jnp.sum(reward)"
   ]
  },
  {
   "cell_type": "code",
   "execution_count": 168,
   "id": "cc591162-9778-4b5d-8ed2-09fb8a1ffcca",
   "metadata": {
    "tags": []
   },
   "outputs": [
    {
     "data": {
      "text/plain": [
       "((30000, 2000, 3), (30000, 2000), Array(-3.9451293e+08, dtype=float32))"
      ]
     },
     "execution_count": 168,
     "metadata": {},
     "output_type": "execute_result"
    }
   ],
   "source": [
    "obs, action, reward, next_obs, done, states = jax.vmap(jit_rollout, in_axes=(None, None, None, None, None, 0))(rng, policy, env, env_params, 2000, jnp.arange(30000))\n",
    "obs.shape, reward.shape, jnp.sum(reward)"
   ]
  },
  {
   "cell_type": "code",
   "execution_count": null,
   "id": "8ccd9763-bdc9-4834-9c8b-775f81554cc9",
   "metadata": {},
   "outputs": [],
   "source": []
  }
 ],
 "metadata": {
  "kernelspec": {
   "display_name": "Python 3 (ipykernel)",
   "language": "python",
   "name": "python3"
  },
  "language_info": {
   "codemirror_mode": {
    "name": "ipython",
    "version": 3
   },
   "file_extension": ".py",
   "mimetype": "text/x-python",
   "name": "python",
   "nbconvert_exporter": "python",
   "pygments_lexer": "ipython3",
   "version": "3.11.6"
  }
 },
 "nbformat": 4,
 "nbformat_minor": 5
}
